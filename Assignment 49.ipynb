{
 "cells": [
  {
   "cell_type": "markdown",
   "id": "ff8c2b2f",
   "metadata": {},
   "source": [
    "# Q1. What is Bayes' theorem?"
   ]
  },
  {
   "cell_type": "markdown",
   "id": "364697a6",
   "metadata": {},
   "source": [
    "# ans..Bayes' theorem describes the probability of occurrence of an event related to any condition. It is also considered for the case of conditional probability. Bayes theorem is also known as the formula for the probability of “causes”"
   ]
  },
  {
   "cell_type": "markdown",
   "id": "b59812bb",
   "metadata": {},
   "source": [
    "# Q2. What is the formula for Bayes' theorem?"
   ]
  },
  {
   "cell_type": "markdown",
   "id": "8ec57ab9",
   "metadata": {},
   "source": [
    "# ans.... P(A|B) = P(A) and P(B|A) = P(B)"
   ]
  },
  {
   "cell_type": "markdown",
   "id": "b8f5ac9e",
   "metadata": {},
   "source": [
    "# Q3. How is Bayes' theorem used in practice?"
   ]
  },
  {
   "cell_type": "markdown",
   "id": "a0adbba2",
   "metadata": {},
   "source": [
    "# ans...Thomas Bayes, is a mathematical formula for determining conditional probability. Conditional probability is the likelihood of an outcome occurring, based on a previous outcome having occurred in similar circumstances."
   ]
  },
  {
   "cell_type": "markdown",
   "id": "39942faf",
   "metadata": {},
   "source": [
    "# Q4. What is the relationship between Bayes' theorem and conditional probability?"
   ]
  },
  {
   "cell_type": "markdown",
   "id": "1315a118",
   "metadata": {},
   "source": [
    "# ans.. the bayes theoem is created by the canditional probability "
   ]
  },
  {
   "cell_type": "markdown",
   "id": "cc08f5f2",
   "metadata": {},
   "source": [
    "# Q5. How do you choose which type of Naive Bayes classifier to use for any given problem?"
   ]
  },
  {
   "cell_type": "markdown",
   "id": "65666dd4",
   "metadata": {},
   "source": [
    "# ans..  you have the  contnious data point so use the gassion \n",
    "# you hyave the text data type point you chooss the multinomial\n",
    "# you have the success and falier type data point you chosse the binary"
   ]
  },
  {
   "cell_type": "markdown",
   "id": "3244e379",
   "metadata": {},
   "source": [
    "# You have a dataset with two features, X1 and X2, and two possible classes, A and B. You want to use Naive\n",
    "# Bayes to classify a new instance with features X1 = 3 and X2 = 4. The following table shows the frequency of each feature value for each class:\n",
    "# Class X1=1 X1=2 X1=3 X2=1 X2=2 X2=3 X2=4\n",
    "# A 3 3 4 4 3 3 3\n",
    "# B 2 2 1 2 2 2 3\n",
    "# Assuming equal prior probabilities for each class, which class would Naive Bayes predict the new instance to belong to?"
   ]
  },
  {
   "cell_type": "code",
   "execution_count": null,
   "id": "0086418a",
   "metadata": {},
   "outputs": [],
   "source": []
  }
 ],
 "metadata": {
  "kernelspec": {
   "display_name": "Python 3 (ipykernel)",
   "language": "python",
   "name": "python3"
  },
  "language_info": {
   "codemirror_mode": {
    "name": "ipython",
    "version": 3
   },
   "file_extension": ".py",
   "mimetype": "text/x-python",
   "name": "python",
   "nbconvert_exporter": "python",
   "pygments_lexer": "ipython3",
   "version": "3.10.9"
  }
 },
 "nbformat": 4,
 "nbformat_minor": 5
}
